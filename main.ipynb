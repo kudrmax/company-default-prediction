{
 "cells": [
  {
   "cell_type": "markdown",
   "source": [
    "## Считывание данных"
   ],
   "metadata": {
    "collapsed": false
   }
  },
  {
   "cell_type": "code",
   "execution_count": 32,
   "metadata": {
    "collapsed": true
   },
   "outputs": [],
   "source": [
    "import pandas as pd"
   ]
  },
  {
   "cell_type": "code",
   "execution_count": 38,
   "outputs": [
    {
     "data": {
      "text/plain": "          qn1       qn2        qn3       qn4       qn5         qn6  \\\n0         NaN  0.496372   1.356517       NaN  0.201783   47.104283   \n1  247.899905       NaN        NaN  2.009905       NaN         NaN   \n2         NaN -1.168700  -1.292688       NaN -1.292688  356.428482   \n3   13.669695  0.669695        NaN -0.315305 -1.330305         NaN   \n4  102.404032 -0.118875  12.493512  0.252032 -0.595860   79.846382   \n\n            qn7       qn8           qn9      qn10      qn11  target  \n0  2.017825e-01  1.191783  3.513918e+07  0.365426  1.624946       0  \n1  1.223077e+10  3.219905  1.211625e+07       NaN       NaN       0  \n2 -1.292688e+00 -0.012688  1.516536e+05  0.088284 -0.151629       0  \n3  1.170006e+08  0.339695  5.068618e+05 -0.330305       NaN       0  \n4  1.512900e+10  3.304032  1.080490e+05 -0.541999 -0.107430       0  ",
      "text/html": "<div>\n<style scoped>\n    .dataframe tbody tr th:only-of-type {\n        vertical-align: middle;\n    }\n\n    .dataframe tbody tr th {\n        vertical-align: top;\n    }\n\n    .dataframe thead th {\n        text-align: right;\n    }\n</style>\n<table border=\"1\" class=\"dataframe\">\n  <thead>\n    <tr style=\"text-align: right;\">\n      <th></th>\n      <th>qn1</th>\n      <th>qn2</th>\n      <th>qn3</th>\n      <th>qn4</th>\n      <th>qn5</th>\n      <th>qn6</th>\n      <th>qn7</th>\n      <th>qn8</th>\n      <th>qn9</th>\n      <th>qn10</th>\n      <th>qn11</th>\n      <th>target</th>\n    </tr>\n  </thead>\n  <tbody>\n    <tr>\n      <th>0</th>\n      <td>NaN</td>\n      <td>0.496372</td>\n      <td>1.356517</td>\n      <td>NaN</td>\n      <td>0.201783</td>\n      <td>47.104283</td>\n      <td>2.017825e-01</td>\n      <td>1.191783</td>\n      <td>3.513918e+07</td>\n      <td>0.365426</td>\n      <td>1.624946</td>\n      <td>0</td>\n    </tr>\n    <tr>\n      <th>1</th>\n      <td>247.899905</td>\n      <td>NaN</td>\n      <td>NaN</td>\n      <td>2.009905</td>\n      <td>NaN</td>\n      <td>NaN</td>\n      <td>1.223077e+10</td>\n      <td>3.219905</td>\n      <td>1.211625e+07</td>\n      <td>NaN</td>\n      <td>NaN</td>\n      <td>0</td>\n    </tr>\n    <tr>\n      <th>2</th>\n      <td>NaN</td>\n      <td>-1.168700</td>\n      <td>-1.292688</td>\n      <td>NaN</td>\n      <td>-1.292688</td>\n      <td>356.428482</td>\n      <td>-1.292688e+00</td>\n      <td>-0.012688</td>\n      <td>1.516536e+05</td>\n      <td>0.088284</td>\n      <td>-0.151629</td>\n      <td>0</td>\n    </tr>\n    <tr>\n      <th>3</th>\n      <td>13.669695</td>\n      <td>0.669695</td>\n      <td>NaN</td>\n      <td>-0.315305</td>\n      <td>-1.330305</td>\n      <td>NaN</td>\n      <td>1.170006e+08</td>\n      <td>0.339695</td>\n      <td>5.068618e+05</td>\n      <td>-0.330305</td>\n      <td>NaN</td>\n      <td>0</td>\n    </tr>\n    <tr>\n      <th>4</th>\n      <td>102.404032</td>\n      <td>-0.118875</td>\n      <td>12.493512</td>\n      <td>0.252032</td>\n      <td>-0.595860</td>\n      <td>79.846382</td>\n      <td>1.512900e+10</td>\n      <td>3.304032</td>\n      <td>1.080490e+05</td>\n      <td>-0.541999</td>\n      <td>-0.107430</td>\n      <td>0</td>\n    </tr>\n  </tbody>\n</table>\n</div>"
     },
     "execution_count": 38,
     "metadata": {},
     "output_type": "execute_result"
    }
   ],
   "source": [
    "data = pd.read_csv('data/data.csv')\n",
    "data.head()"
   ],
   "metadata": {
    "collapsed": false
   }
  },
  {
   "cell_type": "markdown",
   "source": [
    "## Однофакторный анализ"
   ],
   "metadata": {
    "collapsed": false
   }
  },
  {
   "cell_type": "markdown",
   "source": [
    "### Availability"
   ],
   "metadata": {
    "collapsed": false
   }
  },
  {
   "cell_type": "code",
   "execution_count": 39,
   "outputs": [
    {
     "data": {
      "text/plain": "qn1       0.413\nqn2       0.927\nqn3       0.920\nqn4       0.413\nqn5       0.927\nqn6       0.916\nqn7       1.000\nqn8       0.836\nqn9       1.000\nqn10      0.926\nqn11      0.914\ntarget    1.000\ndtype: float64"
     },
     "execution_count": 39,
     "metadata": {},
     "output_type": "execute_result"
    }
   ],
   "source": [
    "# считаем долю не NaN значений\n",
    "availability = data.notna().sum() / data.shape[0]\n",
    "availability"
   ],
   "metadata": {
    "collapsed": false
   }
  },
  {
   "cell_type": "code",
   "execution_count": 40,
   "outputs": [
    {
     "data": {
      "text/plain": "qn2       0.927\nqn3       0.920\nqn5       0.927\nqn6       0.916\nqn7       1.000\nqn8       0.836\nqn9       1.000\nqn10      0.926\nqn11      0.914\ntarget    1.000\ndtype: float64"
     },
     "execution_count": 40,
     "metadata": {},
     "output_type": "execute_result"
    }
   ],
   "source": [
    "# выбираем те признаки, у которых доля Availability >= 0.8\n",
    "availability[availability >= 0.8]"
   ],
   "metadata": {
    "collapsed": false
   }
  },
  {
   "cell_type": "code",
   "execution_count": 41,
   "outputs": [
    {
     "data": {
      "text/plain": "        qn2        qn3       qn5         qn6           qn7       qn8  \\\n0  0.496372   1.356517  0.201783   47.104283  2.017825e-01  1.191783   \n1       NaN        NaN       NaN         NaN  1.223077e+10  3.219905   \n2 -1.168700  -1.292688 -1.292688  356.428482 -1.292688e+00 -0.012688   \n3  0.669695        NaN -1.330305         NaN  1.170006e+08  0.339695   \n4 -0.118875  12.493512 -0.595860   79.846382  1.512900e+10  3.304032   \n\n            qn9      qn10      qn11  target  \n0  3.513918e+07  0.365426  1.624946       0  \n1  1.211625e+07       NaN       NaN       0  \n2  1.516536e+05  0.088284 -0.151629       0  \n3  5.068618e+05 -0.330305       NaN       0  \n4  1.080490e+05 -0.541999 -0.107430       0  ",
      "text/html": "<div>\n<style scoped>\n    .dataframe tbody tr th:only-of-type {\n        vertical-align: middle;\n    }\n\n    .dataframe tbody tr th {\n        vertical-align: top;\n    }\n\n    .dataframe thead th {\n        text-align: right;\n    }\n</style>\n<table border=\"1\" class=\"dataframe\">\n  <thead>\n    <tr style=\"text-align: right;\">\n      <th></th>\n      <th>qn2</th>\n      <th>qn3</th>\n      <th>qn5</th>\n      <th>qn6</th>\n      <th>qn7</th>\n      <th>qn8</th>\n      <th>qn9</th>\n      <th>qn10</th>\n      <th>qn11</th>\n      <th>target</th>\n    </tr>\n  </thead>\n  <tbody>\n    <tr>\n      <th>0</th>\n      <td>0.496372</td>\n      <td>1.356517</td>\n      <td>0.201783</td>\n      <td>47.104283</td>\n      <td>2.017825e-01</td>\n      <td>1.191783</td>\n      <td>3.513918e+07</td>\n      <td>0.365426</td>\n      <td>1.624946</td>\n      <td>0</td>\n    </tr>\n    <tr>\n      <th>1</th>\n      <td>NaN</td>\n      <td>NaN</td>\n      <td>NaN</td>\n      <td>NaN</td>\n      <td>1.223077e+10</td>\n      <td>3.219905</td>\n      <td>1.211625e+07</td>\n      <td>NaN</td>\n      <td>NaN</td>\n      <td>0</td>\n    </tr>\n    <tr>\n      <th>2</th>\n      <td>-1.168700</td>\n      <td>-1.292688</td>\n      <td>-1.292688</td>\n      <td>356.428482</td>\n      <td>-1.292688e+00</td>\n      <td>-0.012688</td>\n      <td>1.516536e+05</td>\n      <td>0.088284</td>\n      <td>-0.151629</td>\n      <td>0</td>\n    </tr>\n    <tr>\n      <th>3</th>\n      <td>0.669695</td>\n      <td>NaN</td>\n      <td>-1.330305</td>\n      <td>NaN</td>\n      <td>1.170006e+08</td>\n      <td>0.339695</td>\n      <td>5.068618e+05</td>\n      <td>-0.330305</td>\n      <td>NaN</td>\n      <td>0</td>\n    </tr>\n    <tr>\n      <th>4</th>\n      <td>-0.118875</td>\n      <td>12.493512</td>\n      <td>-0.595860</td>\n      <td>79.846382</td>\n      <td>1.512900e+10</td>\n      <td>3.304032</td>\n      <td>1.080490e+05</td>\n      <td>-0.541999</td>\n      <td>-0.107430</td>\n      <td>0</td>\n    </tr>\n  </tbody>\n</table>\n</div>"
     },
     "execution_count": 41,
     "metadata": {},
     "output_type": "execute_result"
    }
   ],
   "source": [
    "# оставляем в данных только те признаки, у которых availability >= 80%\n",
    "data = data[availability[availability >= 0.8].index]\n",
    "data.head()"
   ],
   "metadata": {
    "collapsed": false
   }
  },
  {
   "cell_type": "code",
   "execution_count": 17,
   "outputs": [],
   "source": [],
   "metadata": {
    "collapsed": false
   }
  }
 ],
 "metadata": {
  "kernelspec": {
   "display_name": "Python 3",
   "language": "python",
   "name": "python3"
  },
  "language_info": {
   "codemirror_mode": {
    "name": "ipython",
    "version": 2
   },
   "file_extension": ".py",
   "mimetype": "text/x-python",
   "name": "python",
   "nbconvert_exporter": "python",
   "pygments_lexer": "ipython2",
   "version": "2.7.6"
  }
 },
 "nbformat": 4,
 "nbformat_minor": 0
}
