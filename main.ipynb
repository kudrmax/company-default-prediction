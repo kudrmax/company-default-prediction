{
 "cells": [
  {
   "cell_type": "code",
   "execution_count": 1,
   "metadata": {
    "collapsed": true
   },
   "outputs": [],
   "source": [
    "import pandas as pd"
   ]
  },
  {
   "cell_type": "code",
   "execution_count": 4,
   "outputs": [
    {
     "data": {
      "text/plain": "            qn1       qn2        qn3        qn4       qn5         qn6  \\\n0           NaN  0.496372   1.356517        NaN  0.201783   47.104283   \n1    247.899905       NaN        NaN   2.009905       NaN         NaN   \n2           NaN -1.168700  -1.292688        NaN -1.292688  356.428482   \n3     13.669695  0.669695        NaN  -0.315305 -1.330305         NaN   \n4    102.404032 -0.118875  12.493512   0.252032 -0.595860   79.846382   \n..          ...       ...        ...        ...       ...         ...   \n995   96.034419 -0.790613   4.516945  -0.587581 -0.932709  121.928824   \n996   98.122615  1.297583   6.605141   1.669615  1.155488  124.017020   \n997         NaN  0.625107  -0.300761        NaN -0.300761   37.283289   \n998   28.242778  0.548291   2.265762  23.831778  0.243139  131.022643   \n999         NaN  0.630213   0.353970        NaN  0.353970    7.377300   \n\n              qn7       qn8           qn9      qn10      qn11  target  \n0    2.017825e-01  1.191783  3.513918e+07  0.365426  1.624946       0  \n1    1.223077e+10  3.219905  1.211625e+07       NaN       NaN       0  \n2   -1.292688e+00 -0.012688  1.516536e+05  0.088284 -0.151629       0  \n3    1.170006e+08  0.339695  5.068618e+05 -0.330305       NaN       0  \n4    1.512900e+10  3.304032  1.080490e+05 -0.541999 -0.107430       0  \n..            ...       ...           ...       ...       ...     ...  \n995  5.567473e+08  1.184419  7.064516e+07 -0.635119 -0.107144       0  \n996  5.567473e+08  3.272615  1.022214e+08  1.453077  1.981052       0  \n997 -3.007611e-01       NaN  4.344851e+05  0.154618  9.795721       0  \n998  5.154430e+06  0.722778  4.013175e+06  0.643669  1.665923       0  \n999  3.539701e-01       NaN  1.524640e+06  0.608970  1.735649       0  \n\n[1000 rows x 12 columns]",
      "text/html": "<div>\n<style scoped>\n    .dataframe tbody tr th:only-of-type {\n        vertical-align: middle;\n    }\n\n    .dataframe tbody tr th {\n        vertical-align: top;\n    }\n\n    .dataframe thead th {\n        text-align: right;\n    }\n</style>\n<table border=\"1\" class=\"dataframe\">\n  <thead>\n    <tr style=\"text-align: right;\">\n      <th></th>\n      <th>qn1</th>\n      <th>qn2</th>\n      <th>qn3</th>\n      <th>qn4</th>\n      <th>qn5</th>\n      <th>qn6</th>\n      <th>qn7</th>\n      <th>qn8</th>\n      <th>qn9</th>\n      <th>qn10</th>\n      <th>qn11</th>\n      <th>target</th>\n    </tr>\n  </thead>\n  <tbody>\n    <tr>\n      <th>0</th>\n      <td>NaN</td>\n      <td>0.496372</td>\n      <td>1.356517</td>\n      <td>NaN</td>\n      <td>0.201783</td>\n      <td>47.104283</td>\n      <td>2.017825e-01</td>\n      <td>1.191783</td>\n      <td>3.513918e+07</td>\n      <td>0.365426</td>\n      <td>1.624946</td>\n      <td>0</td>\n    </tr>\n    <tr>\n      <th>1</th>\n      <td>247.899905</td>\n      <td>NaN</td>\n      <td>NaN</td>\n      <td>2.009905</td>\n      <td>NaN</td>\n      <td>NaN</td>\n      <td>1.223077e+10</td>\n      <td>3.219905</td>\n      <td>1.211625e+07</td>\n      <td>NaN</td>\n      <td>NaN</td>\n      <td>0</td>\n    </tr>\n    <tr>\n      <th>2</th>\n      <td>NaN</td>\n      <td>-1.168700</td>\n      <td>-1.292688</td>\n      <td>NaN</td>\n      <td>-1.292688</td>\n      <td>356.428482</td>\n      <td>-1.292688e+00</td>\n      <td>-0.012688</td>\n      <td>1.516536e+05</td>\n      <td>0.088284</td>\n      <td>-0.151629</td>\n      <td>0</td>\n    </tr>\n    <tr>\n      <th>3</th>\n      <td>13.669695</td>\n      <td>0.669695</td>\n      <td>NaN</td>\n      <td>-0.315305</td>\n      <td>-1.330305</td>\n      <td>NaN</td>\n      <td>1.170006e+08</td>\n      <td>0.339695</td>\n      <td>5.068618e+05</td>\n      <td>-0.330305</td>\n      <td>NaN</td>\n      <td>0</td>\n    </tr>\n    <tr>\n      <th>4</th>\n      <td>102.404032</td>\n      <td>-0.118875</td>\n      <td>12.493512</td>\n      <td>0.252032</td>\n      <td>-0.595860</td>\n      <td>79.846382</td>\n      <td>1.512900e+10</td>\n      <td>3.304032</td>\n      <td>1.080490e+05</td>\n      <td>-0.541999</td>\n      <td>-0.107430</td>\n      <td>0</td>\n    </tr>\n    <tr>\n      <th>...</th>\n      <td>...</td>\n      <td>...</td>\n      <td>...</td>\n      <td>...</td>\n      <td>...</td>\n      <td>...</td>\n      <td>...</td>\n      <td>...</td>\n      <td>...</td>\n      <td>...</td>\n      <td>...</td>\n      <td>...</td>\n    </tr>\n    <tr>\n      <th>995</th>\n      <td>96.034419</td>\n      <td>-0.790613</td>\n      <td>4.516945</td>\n      <td>-0.587581</td>\n      <td>-0.932709</td>\n      <td>121.928824</td>\n      <td>5.567473e+08</td>\n      <td>1.184419</td>\n      <td>7.064516e+07</td>\n      <td>-0.635119</td>\n      <td>-0.107144</td>\n      <td>0</td>\n    </tr>\n    <tr>\n      <th>996</th>\n      <td>98.122615</td>\n      <td>1.297583</td>\n      <td>6.605141</td>\n      <td>1.669615</td>\n      <td>1.155488</td>\n      <td>124.017020</td>\n      <td>5.567473e+08</td>\n      <td>3.272615</td>\n      <td>1.022214e+08</td>\n      <td>1.453077</td>\n      <td>1.981052</td>\n      <td>0</td>\n    </tr>\n    <tr>\n      <th>997</th>\n      <td>NaN</td>\n      <td>0.625107</td>\n      <td>-0.300761</td>\n      <td>NaN</td>\n      <td>-0.300761</td>\n      <td>37.283289</td>\n      <td>-3.007611e-01</td>\n      <td>NaN</td>\n      <td>4.344851e+05</td>\n      <td>0.154618</td>\n      <td>9.795721</td>\n      <td>0</td>\n    </tr>\n    <tr>\n      <th>998</th>\n      <td>28.242778</td>\n      <td>0.548291</td>\n      <td>2.265762</td>\n      <td>23.831778</td>\n      <td>0.243139</td>\n      <td>131.022643</td>\n      <td>5.154430e+06</td>\n      <td>0.722778</td>\n      <td>4.013175e+06</td>\n      <td>0.643669</td>\n      <td>1.665923</td>\n      <td>0</td>\n    </tr>\n    <tr>\n      <th>999</th>\n      <td>NaN</td>\n      <td>0.630213</td>\n      <td>0.353970</td>\n      <td>NaN</td>\n      <td>0.353970</td>\n      <td>7.377300</td>\n      <td>3.539701e-01</td>\n      <td>NaN</td>\n      <td>1.524640e+06</td>\n      <td>0.608970</td>\n      <td>1.735649</td>\n      <td>0</td>\n    </tr>\n  </tbody>\n</table>\n<p>1000 rows × 12 columns</p>\n</div>"
     },
     "execution_count": 4,
     "metadata": {},
     "output_type": "execute_result"
    }
   ],
   "source": [
    "data = pd.read_csv('data/data.csv')\n",
    "data"
   ],
   "metadata": {
    "collapsed": false
   }
  },
  {
   "cell_type": "code",
   "execution_count": null,
   "outputs": [],
   "source": [],
   "metadata": {
    "collapsed": false
   }
  }
 ],
 "metadata": {
  "kernelspec": {
   "display_name": "Python 3",
   "language": "python",
   "name": "python3"
  },
  "language_info": {
   "codemirror_mode": {
    "name": "ipython",
    "version": 2
   },
   "file_extension": ".py",
   "mimetype": "text/x-python",
   "name": "python",
   "nbconvert_exporter": "python",
   "pygments_lexer": "ipython2",
   "version": "2.7.6"
  }
 },
 "nbformat": 4,
 "nbformat_minor": 0
}
